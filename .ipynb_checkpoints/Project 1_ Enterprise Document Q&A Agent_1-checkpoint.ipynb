{
 "cells": [
  {
   "cell_type": "markdown",
   "id": "0d4ca8fb-f280-4c93-9751-8c3710534cb3",
   "metadata": {},
   "source": [
    "# What is the problem?\n",
    "### - Companies have lots of internal documents: HR policies, SOPs, product manuals.\n",
    "### - Employees waste time reading through these or asking HR / managers.\n",
    "### - Can’t just use ChatGPT because it doesn’t know your company’s internal documents."
   ]
  },
  {
   "cell_type": "markdown",
   "id": "4a952f3e-aa1c-4e72-9f8f-f91430718bae",
   "metadata": {},
   "source": [
    "## ** What are we trying to achieve?**\n",
    "## Build a chatbot (or AI Agent) that answers employee questions using your company’s documents.¶"
   ]
  },
  {
   "cell_type": "markdown",
   "id": "62b4d9f7-bad0-4a59-a9b8-0eee20629a2b",
   "metadata": {},
   "source": [
    "### How does it work (concept)?\n",
    "### We use RAG (Retrieval-Augmented Generation):\n",
    "### We store the documents in a special searchable database (vector database).\n",
    "### When a user asks a question:\n",
    "### We search the documents to find the most relevant parts (retrieval).\n",
    "### We send those relevant parts + question to the LLM (GPT-4, Claude etc.) to generate a good answer.¶"
   ]
  },
  {
   "cell_type": "markdown",
   "id": "a11de1e4-b0ad-4a85-8c41-475fe239b1db",
   "metadata": {},
   "source": [
    "# Step-by-step:\n",
    "## Step 1: Prepare documents\n",
    "## Collect PDFs or text files of company documents.\n",
    "### Split them into small chunks (e.g., 200–500 words) for easier search later.¶"
   ]
  },
  {
   "cell_type": "markdown",
   "id": "81b28f16-0f08-4245-b8bb-e719ebd1ccfe",
   "metadata": {},
   "source": [
    "## What is the purpose of this code?\n",
    "## You want to take a folder full of documents (PDF, TXT, Word, etc.) and turn them into a list of text chunks your GenAI app can work with.\n",
    "## LangChain provides a DirectoryLoader, which helps you:\n",
    "## Open a directory (folder) on your computer/server.\n",
    "## Find all supported files inside.\n",
    "## Load their contents as a list of Document objects.\n"
   ]
  },
  {
   "cell_type": "markdown",
   "id": "de123219-ed56-4775-8350-6c31ae95e2dd",
   "metadata": {},
   "source": [
    "# Import DirectoryLoader"
   ]
  },
  {
   "cell_type": "code",
   "execution_count": 7,
   "id": "4a1a06d6-f9ea-4169-b958-2879ed52d2e4",
   "metadata": {},
   "outputs": [],
   "source": [
    "from langchain_community.document_loaders import DirectoryLoader\n"
   ]
  },
  {
   "cell_type": "markdown",
   "id": "f504fcb3-0f1e-4015-bb84-9a6fb7ef4a06",
   "metadata": {},
   "source": [
    "# Create a loader"
   ]
  },
  {
   "cell_type": "markdown",
   "id": "58bd1d72-4648-4efa-ab15-b60f50bf64cc",
   "metadata": {},
   "source": [
    "# Actually load the documents"
   ]
  },
  {
   "cell_type": "code",
   "execution_count": 10,
   "id": "a339faa4-dca5-4788-aff6-567a2b39058d",
   "metadata": {},
   "outputs": [],
   "source": [
    "loader = DirectoryLoader(\"D:\\\\desktop\\\\LLM_Project folder\\\\DATA_1\")"
   ]
  },
  {
   "cell_type": "code",
   "execution_count": 11,
   "id": "3cb7d846-087f-484c-8b98-c5fe6d241395",
   "metadata": {},
   "outputs": [
    {
     "name": "stderr",
     "output_type": "stream",
     "text": [
      "libmagic is unavailable but assists in filetype detection. Please consider installing libmagic for better results.\n",
      "libmagic is unavailable but assists in filetype detection. Please consider installing libmagic for better results.\n",
      "libmagic is unavailable but assists in filetype detection. Please consider installing libmagic for better results.\n"
     ]
    }
   ],
   "source": [
    "docs = loader.load()"
   ]
  },
  {
   "cell_type": "code",
   "execution_count": 12,
   "id": "35df00f5-167c-468a-ac03-469f4dc1766f",
   "metadata": {},
   "outputs": [
    {
     "data": {
      "text/plain": [
       "[Document(metadata={'source': 'D:\\\\desktop\\\\LLM_Project folder\\\\DATA_1\\\\employee_handbook.txt'}, page_content='Welcome to ACME Corp!\\n\\nOur company provides flexible working hours from 9 AM to 6 PM with a one-hour lunch break. Employees are entitled to 24 paid leaves per year, including casual and sick leaves.\\n\\nThe maternity leave policy allows for 26 weeks of paid leave, and paternity leave is 2 weeks.\\n\\nThe dress code is business casual from Monday to Thursday and casuals on Friday.\\n\\nWe believe in equal opportunities and have a strict anti-harassment policy.'),\n",
       " Document(metadata={'source': 'D:\\\\desktop\\\\LLM_Project folder\\\\DATA_1\\\\faq.txt'}, page_content=\"Q: How do I reset my password? A: Please visit the internal portal and click on 'Forgot Password'.\\n\\nQ: What is the company holiday calendar? A: The calendar is published every December and is available on the intranet.\\n\\nQ: Can I work remotely? A: Remote work is allowed up to 2 days per week with manager approval.\"),\n",
       " Document(metadata={'source': 'D:\\\\desktop\\\\LLM_Project folder\\\\DATA_1\\\\policy.txt'}, page_content='ACME Corp Data Privacy Policy:\\n\\nWe respect your privacy and comply with GDPR. All employee data is encrypted and only accessible to authorized HR personnel.\\n\\nEmployees must not share confidential company data outside the organization.')]"
      ]
     },
     "execution_count": 12,
     "metadata": {},
     "output_type": "execute_result"
    }
   ],
   "source": [
    "docs"
   ]
  },
  {
   "cell_type": "code",
   "execution_count": 13,
   "id": "a145d160-c0a5-47ef-ab16-be06b26e7bd6",
   "metadata": {},
   "outputs": [
    {
     "data": {
      "text/plain": [
       "{'source': 'D:\\\\desktop\\\\LLM_Project folder\\\\DATA_1\\\\employee_handbook.txt'}"
      ]
     },
     "execution_count": 13,
     "metadata": {},
     "output_type": "execute_result"
    }
   ],
   "source": [
    "docs[0].metadata\n"
   ]
  },
  {
   "cell_type": "code",
   "execution_count": 14,
   "id": "877d22f0-1de0-43de-a1e9-89daabc98bb5",
   "metadata": {},
   "outputs": [
    {
     "name": "stdout",
     "output_type": "stream",
     "text": [
      "Welcome to ACME Corp!\n",
      "\n",
      "Our company provides flexible working hours from 9 AM to 6 PM with a one-hour lunch break. Employees are entitled to 24 paid leaves per year, including casual and sick leaves.\n",
      "\n",
      "The maternity leave policy allows for 26 weeks of paid leave, and paternity leave is 2 weeks.\n",
      "\n",
      "The dress code is business casual from Monday to Thursday and casuals on Friday.\n",
      "\n",
      "We believe in equal opportunities and have a strict anti-harassment policy.\n"
     ]
    }
   ],
   "source": [
    "print(docs[0].page_content)\n"
   ]
  },
  {
   "cell_type": "markdown",
   "id": "42293eae-9956-4a9f-a57b-f28e5d2e9827",
   "metadata": {},
   "source": [
    "# Step 2: Split & embed\n",
    "# Split text into chunks & turn each chunk into a vector (numbers) using embeddings."
   ]
  },
  {
   "cell_type": "code",
   "execution_count": 16,
   "id": "874689f7-bcc9-4cbb-991d-e5abc2cfb0ae",
   "metadata": {},
   "outputs": [],
   "source": [
    "from langchain.text_splitter import RecursiveCharacterTextSplitter\n"
   ]
  },
  {
   "cell_type": "code",
   "execution_count": 17,
   "id": "a847301d-af09-4fb6-97b9-0a757125b7f3",
   "metadata": {},
   "outputs": [
    {
     "data": {
      "text/plain": [
       "[Document(metadata={'source': 'D:\\\\desktop\\\\LLM_Project folder\\\\DATA_1\\\\employee_handbook.txt'}, page_content='Welcome to ACME Corp!\\n\\nOur company provides flexible working hours from 9 AM to 6 PM with a one-hour lunch break. Employees are entitled to 24 paid leaves per year, including casual and sick leaves.\\n\\nThe maternity leave policy allows for 26 weeks of paid leave, and paternity leave is 2 weeks.\\n\\nThe dress code is business casual from Monday to Thursday and casuals on Friday.\\n\\nWe believe in equal opportunities and have a strict anti-harassment policy.'),\n",
       " Document(metadata={'source': 'D:\\\\desktop\\\\LLM_Project folder\\\\DATA_1\\\\faq.txt'}, page_content=\"Q: How do I reset my password? A: Please visit the internal portal and click on 'Forgot Password'.\\n\\nQ: What is the company holiday calendar? A: The calendar is published every December and is available on the intranet.\\n\\nQ: Can I work remotely? A: Remote work is allowed up to 2 days per week with manager approval.\"),\n",
       " Document(metadata={'source': 'D:\\\\desktop\\\\LLM_Project folder\\\\DATA_1\\\\policy.txt'}, page_content='ACME Corp Data Privacy Policy:\\n\\nWe respect your privacy and comply with GDPR. All employee data is encrypted and only accessible to authorized HR personnel.\\n\\nEmployees must not share confidential company data outside the organization.')]"
      ]
     },
     "execution_count": 17,
     "metadata": {},
     "output_type": "execute_result"
    }
   ],
   "source": [
    "splitter = RecursiveCharacterTextSplitter(chunk_size=1000, chunk_overlap=100)\n",
    "chunks = splitter.split_documents(docs)\n",
    "chunks\n"
   ]
  },
  {
   "cell_type": "code",
   "execution_count": 18,
   "id": "d4a4a67a-545f-4649-80d2-3c911ef2f56f",
   "metadata": {},
   "outputs": [
    {
     "name": "stdout",
     "output_type": "stream",
     "text": [
      "3\n"
     ]
    }
   ],
   "source": [
    "print(len(chunks))"
   ]
  },
  {
   "cell_type": "code",
   "execution_count": 19,
   "id": "74ea8239-5ec5-49f9-b454-a87d4b3de8db",
   "metadata": {},
   "outputs": [],
   "source": [
    "#pip install -U langchain-openai\n"
   ]
  },
  {
   "cell_type": "code",
   "execution_count": 20,
   "id": "3ed35816-14b7-4449-92b7-459e66c59431",
   "metadata": {},
   "outputs": [],
   "source": [
    "from langchain_openai import OpenAIEmbeddings\n",
    "with open(r\"D:\\desktop\\LLM_Project folder\\Key_GEN_AI.txt\",\"r\") as f:\n",
    "    Api_key = f.read().strip()\n",
    "\n",
    "embeddings = OpenAIEmbeddings(openai_api_key= Api_key )\n"
   ]
  },
  {
   "cell_type": "code",
   "execution_count": 21,
   "id": "521d1110-527c-4ffc-a2a9-a1995f13ee15",
   "metadata": {},
   "outputs": [
    {
     "data": {
      "text/plain": [
       "OpenAIEmbeddings(client=<openai.resources.embeddings.Embeddings object at 0x000001F7E0273150>, async_client=<openai.resources.embeddings.AsyncEmbeddings object at 0x000001F7E0280C10>, model='text-embedding-ada-002', dimensions=None, deployment='text-embedding-ada-002', openai_api_version=None, openai_api_base=None, openai_api_type=None, openai_proxy=None, embedding_ctx_length=8191, openai_api_key=SecretStr('**********'), openai_organization=None, allowed_special=None, disallowed_special=None, chunk_size=1000, max_retries=2, request_timeout=None, headers=None, tiktoken_enabled=True, tiktoken_model_name=None, show_progress_bar=False, model_kwargs={}, skip_empty=False, default_headers=None, default_query=None, retry_min_seconds=4, retry_max_seconds=20, http_client=None, http_async_client=None, check_embedding_ctx_length=True)"
      ]
     },
     "execution_count": 21,
     "metadata": {},
     "output_type": "execute_result"
    }
   ],
   "source": [
    "embeddings"
   ]
  },
  {
   "cell_type": "markdown",
   "id": "f0d47254-69bc-4ba8-84b9-a57a79255a15",
   "metadata": {},
   "source": [
    "# Step 3: Store vectors\n",
    "# Store all vectors in a searchable vector database (e.g., FAISS).\n",
    "\n",
    "\n"
   ]
  },
  {
   "cell_type": "code",
   "execution_count": 22,
   "id": "725e3eae-d0a7-4c77-96cc-556f67e6ddc8",
   "metadata": {},
   "outputs": [],
   "source": [
    "from langchain.vectorstores import FAISS\n"
   ]
  },
  {
   "cell_type": "code",
   "execution_count": 23,
   "id": "99bdff64-6d28-4edc-ac59-8da32c4e0e9c",
   "metadata": {},
   "outputs": [],
   "source": [
    "vectorstore = FAISS.from_documents(chunks, embeddings)\n",
    "\n"
   ]
  },
  {
   "cell_type": "code",
   "execution_count": 24,
   "id": "29a0f7d3-d4cc-408c-a6ef-0e0136085ce6",
   "metadata": {},
   "outputs": [
    {
     "name": "stdout",
     "output_type": "stream",
     "text": [
      "Vectorstore saved to ./faiss_index\n"
     ]
    }
   ],
   "source": [
    "vectorstore.save_local(\"./faiss_index\")\n",
    "print(\"Vectorstore saved to ./faiss_index\")"
   ]
  },
  {
   "cell_type": "markdown",
   "id": "86d39fe2-49c0-4bf7-8792-56617e558715",
   "metadata": {},
   "source": [
    "# Step 4: Build Q&A chain"
   ]
  },
  {
   "cell_type": "markdown",
   "id": "a91c448c-a096-42ee-ad4a-c69c75e18105",
   "metadata": {},
   "source": [
    "What is RAG?\n",
    "RAG = Retrieval-Augmented Generation\n",
    "\n",
    "Combine retrieval from external knowledge + generation from an LLM.\n",
    "\n",
    "Why?\n",
    "LLMs (like GPT-3.5/4) don’t know your private documents. So you first search your documents for relevant pieces, and then pass those to the LLM to generate the answer.\n",
    "\n"
   ]
  },
  {
   "cell_type": "markdown",
   "id": "cca50248-4703-493e-b093-59f1bb13179e",
   "metadata": {},
   "source": [
    "| RAG Step        |                   Code                                              |\n",
    "| --------------- | ------------------------------------------------------------------  |\n",
    "| 🔍 **Retrieve** | `retriever = db.as_retriever()`                                    \n",
    "| 🔷 **Augment**  | `retriever` pulls relevant chunks                                  |\n",
    "| 📝 **Generate** | `llm = ChatOpenAI()` uses retrieved context to answer              |\n",
    "| ✅ Combine       | `qa_chain = RetrievalQA.from_chain_type(llm, retriever=retriever)`|\n"
   ]
  },
  {
   "cell_type": "code",
   "execution_count": 49,
   "id": "4b0d02ff-57f6-4b00-8e2e-ece233e8d4a1",
   "metadata": {},
   "outputs": [],
   "source": [
    "from langchain.chains import RetrievalQA\n",
    "from langchain_openai import ChatOpenAI\n",
    "\n",
    "llm = ChatOpenAI(openai_api_key=Api_key)\n"
   ]
  },
  {
   "cell_type": "code",
   "execution_count": 53,
   "id": "4344e8cd-9a63-4787-95f1-333a3f0c67d2",
   "metadata": {},
   "outputs": [],
   "source": [
    "retriever = vectorstore.as_retriever()\n",
    "qa_chain = RetrievalQA.from_chain_type(llm, retriever=retriever)"
   ]
  },
  {
   "cell_type": "code",
   "execution_count": 55,
   "id": "5c753470-1f36-4395-a6c6-173381125462",
   "metadata": {},
   "outputs": [
    {
     "name": "stderr",
     "output_type": "stream",
     "text": [
      "C:\\Users\\PANKAJ SHARMA\\AppData\\Local\\Temp\\ipykernel_17748\\3543142165.py:1: LangChainDeprecationWarning: The method `Chain.run` was deprecated in langchain 0.1.0 and will be removed in 1.0. Use :meth:`~invoke` instead.\n",
      "  response = qa_chain.run(\"What is the maternity leave policy?\")\n"
     ]
    },
    {
     "name": "stdout",
     "output_type": "stream",
     "text": [
      "The maternity leave policy at ACME Corp allows for 26 weeks of paid leave.\n"
     ]
    }
   ],
   "source": [
    "response = qa_chain.run(\"What is the maternity leave policy?\")\n",
    "print(response)"
   ]
  },
  {
   "cell_type": "code",
   "execution_count": 59,
   "id": "3baa6851-5ba9-4b07-aa98-515dbffa8e48",
   "metadata": {},
   "outputs": [],
   "source": [
    "from IPython.display import Markdown\n"
   ]
  },
  {
   "cell_type": "code",
   "execution_count": 61,
   "id": "213d1e50-f894-49a5-9bc5-3e4d41ca8872",
   "metadata": {},
   "outputs": [
    {
     "data": {
      "text/markdown": [
       "The maternity leave policy at ACME Corp allows for 26 weeks of paid leave."
      ],
      "text/plain": [
       "<IPython.core.display.Markdown object>"
      ]
     },
     "execution_count": 61,
     "metadata": {},
     "output_type": "execute_result"
    }
   ],
   "source": [
    "Markdown(response)"
   ]
  },
  {
   "cell_type": "markdown",
   "id": "5f93b7e2-c900-4370-ae9f-3495dfef41b0",
   "metadata": {},
   "source": [
    "General HR policies:\n",
    "\n",
    "What are the official working hours?\n",
    "\n",
    "How many paid leaves do employees get?\n",
    "\n",
    "What is the maternity leave policy?\n",
    "\n",
    "What is the paternity leave policy?\n",
    "\n",
    "What is the company dress code on Fridays?\n",
    "\n",
    "Does the company have an anti-harassment policy?\n",
    "\n",
    "How does the company ensure equal opportunities?\n",
    "\n"
   ]
  },
  {
   "cell_type": "code",
   "execution_count": 64,
   "id": "508550af-8ad2-494f-8445-afbe3a9e9d3c",
   "metadata": {},
   "outputs": [
    {
     "data": {
      "text/markdown": [
       "ACME Corp has the following general HR policies:\n",
       "\n",
       "- Flexible working hours from 9 AM to 6 PM with a one-hour lunch break.\n",
       "- 24 paid leaves per year, including casual and sick leaves.\n",
       "- 26 weeks of paid maternity leave and 2 weeks of paternity leave.\n",
       "- Business casual dress code from Monday to Thursday, and casual attire on Fridays.\n",
       "- Equal opportunities policy and strict anti-harassment policy.\n",
       "- Remote work is allowed up to 2 days per week with manager approval."
      ],
      "text/plain": [
       "<IPython.core.display.Markdown object>"
      ]
     },
     "execution_count": 64,
     "metadata": {},
     "output_type": "execute_result"
    }
   ],
   "source": [
    "response = qa_chain.run(\"General HR policies:?\")\n",
    "Markdown(response)"
   ]
  },
  {
   "cell_type": "code",
   "execution_count": 66,
   "id": "e441be13-8482-4133-8219-527bb5e6fe8a",
   "metadata": {},
   "outputs": [
    {
     "data": {
      "text/markdown": [
       "The official working hours at ACME Corp are from 9 AM to 6 PM with a one-hour lunch break."
      ],
      "text/plain": [
       "<IPython.core.display.Markdown object>"
      ]
     },
     "execution_count": 66,
     "metadata": {},
     "output_type": "execute_result"
    }
   ],
   "source": [
    "response = qa_chain.run(\"What are the official working hours?\")\n",
    "Markdown(response)"
   ]
  },
  {
   "cell_type": "code",
   "execution_count": 68,
   "id": "900973c9-c7af-4b2c-a03d-4ee79234e01d",
   "metadata": {},
   "outputs": [
    {
     "data": {
      "text/markdown": [
       "Employees are entitled to 24 paid leaves per year, including casual and sick leaves."
      ],
      "text/plain": [
       "<IPython.core.display.Markdown object>"
      ]
     },
     "execution_count": 68,
     "metadata": {},
     "output_type": "execute_result"
    }
   ],
   "source": [
    "response = qa_chain.run(\"How many paid leaves do employees get?\")\n",
    "Markdown(response)"
   ]
  },
  {
   "cell_type": "code",
   "execution_count": null,
   "id": "0537082d-1c04-4fa2-ac21-ae7df375cee5",
   "metadata": {},
   "outputs": [],
   "source": []
  }
 ],
 "metadata": {
  "kernelspec": {
   "display_name": "Python (genai)",
   "language": "python",
   "name": "genai"
  },
  "language_info": {
   "codemirror_mode": {
    "name": "ipython",
    "version": 3
   },
   "file_extension": ".py",
   "mimetype": "text/x-python",
   "name": "python",
   "nbconvert_exporter": "python",
   "pygments_lexer": "ipython3",
   "version": "3.11.13"
  }
 },
 "nbformat": 4,
 "nbformat_minor": 5
}
